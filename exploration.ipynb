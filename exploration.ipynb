{
 "cells": [
  {
   "cell_type": "markdown",
   "id": "126b0fe4",
   "metadata": {},
   "source": [
    "# Exploration"
   ]
  },
  {
   "cell_type": "markdown",
   "id": "7ffefdea",
   "metadata": {},
   "source": [
    "# Imports"
   ]
  },
  {
   "cell_type": "code",
   "execution_count": 1,
   "id": "edb4cd8d",
   "metadata": {},
   "outputs": [],
   "source": [
    "import pandas as pd\n",
    "import matplotlib.pyplot as plt\n",
    "from src.features import compute_features\n",
    "from src.detect import detect_anomalies\n",
    "from src.config import TICKERS, DATA_DIR"
   ]
  },
  {
   "cell_type": "markdown",
   "id": "cd4a5f81",
   "metadata": {},
   "source": [
    "# Load data for one ticker (e.g. AAPL)"
   ]
  },
  {
   "cell_type": "code",
   "execution_count": 2,
   "id": "b181fd33",
   "metadata": {},
   "outputs": [
    {
     "name": "stdout",
     "output_type": "stream",
     "text": [
      "                 Close        High         Low        Open     Volume\n",
      "Date                                                                 \n",
      "2022-01-03  178.645645  179.499574  174.425140  174.542917  104487900\n",
      "2022-01-04  176.378342  179.558457  175.809061  179.254190   99310400\n",
      "2022-01-05  171.686691  176.839648  171.411868  176.290001   94537600\n",
      "2022-01-06  168.820694  172.059699  168.467348  169.507752   96904000\n",
      "2022-01-07  168.987534  170.921120  167.868606  169.694226   86709100\n"
     ]
    }
   ],
   "source": [
    "ticker = \"AAPL\"\n",
    "df = pd.read_csv(\n",
    "   f\"{DATA_DIR}/{ticker}.csv\",\n",
    "   skiprows=3,\n",
    "   header=None,\n",
    "   names=[\"Date\", \"Close\", \"High\", \"Low\", \"Open\", \"Volume\"],\n",
    "   index_col=0,\n",
    "   parse_dates=True,\n",
    ")\n",
    "print(df.head())"
   ]
  },
  {
   "cell_type": "markdown",
   "id": "0916fd63",
   "metadata": {},
   "source": [
    "# Compute features"
   ]
  },
  {
   "cell_type": "code",
   "execution_count": 3,
   "id": "280e0def",
   "metadata": {},
   "outputs": [
    {
     "name": "stdout",
     "output_type": "stream",
     "text": [
      "                 Close        High         Low        Open     Volume  \\\n",
      "Date                                                                    \n",
      "2022-02-18  164.416763  167.600916  163.325892  166.893338   82772700   \n",
      "2022-02-22  161.488113  163.817264  159.355498  162.136728   91162800   \n",
      "2022-02-23  157.311371  163.286575  156.996879  162.687087   90009200   \n",
      "2022-02-24  159.935364  160.043469  149.380450  149.950456  141147500   \n",
      "2022-02-25  162.008987  162.274323  158.097568  161.016384   91974200   \n",
      "\n",
      "              return  volatility        rsi  macd_diff  bollinger_h  \\\n",
      "Date                                                                  \n",
      "2022-02-18 -0.009356    0.021099  42.446365  -0.240071   177.424642   \n",
      "2022-02-22 -0.017812    0.021508  38.208366  -0.538626   177.200743   \n",
      "2022-02-23 -0.025864    0.022183  33.128249  -0.958377   177.132327   \n",
      "2022-02-24  0.016680    0.022478  38.647232  -0.995896   176.736804   \n",
      "2022-02-25  0.012965    0.022603  42.673683  -0.824726   176.015688   \n",
      "\n",
      "            bollinger_l        obv   skew_10   kurt_10  rolling_mean  \n",
      "Date                                                                  \n",
      "2022-02-18   156.044608 -817480800  0.221773 -1.122098    166.734625  \n",
      "2022-02-22   156.554065 -908643600  0.370029 -1.248282    166.877404  \n",
      "2022-02-23   156.670962 -998652800  0.715163 -0.631624    166.901645  \n",
      "2022-02-24   157.386198 -857505300  0.685476 -0.905192    167.061501  \n",
      "2022-02-25   158.680524 -765531100  0.277945 -1.354438    167.348106  \n"
     ]
    }
   ],
   "source": [
    "df = compute_features(df)\n",
    "print(df.head())"
   ]
  },
  {
   "cell_type": "markdown",
   "id": "92a82024",
   "metadata": {},
   "source": [
    "# Detect anomalies"
   ]
  },
  {
   "cell_type": "code",
   "execution_count": 4,
   "id": "3e2d004d",
   "metadata": {},
   "outputs": [],
   "source": [
    "df, anomalies = detect_anomalies(df)"
   ]
  },
  {
   "cell_type": "markdown",
   "id": "508e6d64",
   "metadata": {},
   "source": [
    "# Plot results"
   ]
  },
  {
   "cell_type": "code",
   "execution_count": 5,
   "id": "c5100520",
   "metadata": {},
   "outputs": [
    {
     "name": "stdout",
     "output_type": "stream",
     "text": [
      "Saved plot: data/raw/AAPL_Close_Price_with_Detected_Anomalies.png\n"
     ]
    }
   ],
   "source": [
    "from src.visualize import plot_anomalies\n",
    "\n",
    "plot_anomalies(df, title=f\"{ticker} Close Price with Detected Anomalies\")"
   ]
  },
  {
   "cell_type": "code",
   "execution_count": 6,
   "id": "bec766b7",
   "metadata": {},
   "outputs": [
    {
     "name": "stdout",
     "output_type": "stream",
     "text": [
      "Anomaly dates and close prices:\n",
      "                 Close\n",
      "Date                  \n",
      "2023-08-04  180.185928\n",
      "2024-01-02  184.290405\n",
      "2024-06-11  206.185730\n",
      "2024-06-12  212.078201\n"
     ]
    }
   ],
   "source": [
    "print(\"Anomaly dates and close prices:\")\n",
    "print(df[df[\"anomaly\"] == 1][[\"Close\"]])"
   ]
  }
 ],
 "metadata": {
  "kernelspec": {
   "display_name": "venv",
   "language": "python",
   "name": "python3"
  },
  "language_info": {
   "codemirror_mode": {
    "name": "ipython",
    "version": 3
   },
   "file_extension": ".py",
   "mimetype": "text/x-python",
   "name": "python",
   "nbconvert_exporter": "python",
   "pygments_lexer": "ipython3",
   "version": "3.12.3"
  }
 },
 "nbformat": 4,
 "nbformat_minor": 5
}
